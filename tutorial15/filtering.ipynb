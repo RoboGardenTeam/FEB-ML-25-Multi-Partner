{
 "cells": [
  {
   "cell_type": "code",
   "execution_count": 3,
   "metadata": {},
   "outputs": [],
   "source": [
    "from surprise.model_selection import train_test_split\n",
    "from sklearn.metrics.pairwise import cosine_similarity\n",
    "import pandas as pd"
   ]
  },
  {
   "cell_type": "code",
   "execution_count": null,
   "metadata": {},
   "outputs": [],
   "source": [
    "def get_similar_users(user_id, user_similarity_df, top_n=5):\n",
    "    \"\"\"Find top-N similar users\"\"\"\n",
    "    similar_users = user_similarity_df[user_id].sort_values(ascending=False)[1:top_n+1]\n",
    "    return similar_users\n",
    "def recommend_movies(user_id, user_similarity_df, user_item_matrix, top_n=5):\n",
    "    \"\"\"Recommend top-N movies for a user based on similar users\"\"\"\n",
    "    similar_users = get_similar_users(user_id, user_similarity_df)\n",
    "    similar_users_movies = user_item_matrix.loc[similar_users.index].mean(axis=0)\n",
    "    user_movies = user_item_matrix.loc[user_id].dropna()\n",
    "    recommendations = similar_users_movies.drop(user_movies.index).sort_values(ascending=False).head(top_n)\n",
    "    return recommendations"
   ]
  },
  {
   "cell_type": "code",
   "execution_count": 5,
   "metadata": {},
   "outputs": [
    {
     "name": "stdout",
     "output_type": "stream",
     "text": [
      "   user_id  item_id  rating  timestamp\n",
      "0      196      242       3  881250949\n",
      "1      186      302       3  891717742\n",
      "2       22      377       1  878887116\n",
      "3      244       51       2  880606923\n",
      "4      166      346       1  886397596\n"
     ]
    }
   ],
   "source": [
    "column_names = [\"user_id\", \"item_id\", \"rating\", \"timestamp\"]\n",
    "df = pd.read_csv(\"ml-100k/u.data\", sep=\"\\t\", names=column_names)\n",
    "print(df.head())"
   ]
  },
  {
   "cell_type": "code",
   "execution_count": null,
   "metadata": {},
   "outputs": [
    {
     "name": "stdout",
     "output_type": "stream",
     "text": [
      "item_id  1     2     3     4     5     6     7     8     9     10    ...  \\\n",
      "user_id                                                              ...   \n",
      "1         5.0   3.0   4.0   3.0   3.0   5.0   4.0   1.0   5.0   3.0  ...   \n",
      "2         4.0   NaN   NaN   NaN   NaN   NaN   NaN   NaN   NaN   2.0  ...   \n",
      "3         NaN   NaN   NaN   NaN   NaN   NaN   NaN   NaN   NaN   NaN  ...   \n",
      "4         NaN   NaN   NaN   NaN   NaN   NaN   NaN   NaN   NaN   NaN  ...   \n",
      "5         4.0   3.0   NaN   NaN   NaN   NaN   NaN   NaN   NaN   NaN  ...   \n",
      "6         4.0   NaN   NaN   NaN   NaN   NaN   2.0   4.0   4.0   NaN  ...   \n",
      "7         NaN   NaN   NaN   5.0   NaN   NaN   5.0   5.0   5.0   4.0  ...   \n",
      "8         NaN   NaN   NaN   NaN   NaN   NaN   3.0   NaN   NaN   NaN  ...   \n",
      "9         NaN   NaN   NaN   NaN   NaN   5.0   4.0   NaN   NaN   NaN  ...   \n",
      "10        4.0   NaN   NaN   4.0   NaN   NaN   4.0   NaN   4.0   NaN  ...   \n",
      "\n",
      "item_id  1673  1674  1675  1676  1677  1678  1679  1680  1681  1682  \n",
      "user_id                                                              \n",
      "1         NaN   NaN   NaN   NaN   NaN   NaN   NaN   NaN   NaN   NaN  \n",
      "2         NaN   NaN   NaN   NaN   NaN   NaN   NaN   NaN   NaN   NaN  \n",
      "3         NaN   NaN   NaN   NaN   NaN   NaN   NaN   NaN   NaN   NaN  \n",
      "4         NaN   NaN   NaN   NaN   NaN   NaN   NaN   NaN   NaN   NaN  \n",
      "5         NaN   NaN   NaN   NaN   NaN   NaN   NaN   NaN   NaN   NaN  \n",
      "6         NaN   NaN   NaN   NaN   NaN   NaN   NaN   NaN   NaN   NaN  \n",
      "7         NaN   NaN   NaN   NaN   NaN   NaN   NaN   NaN   NaN   NaN  \n",
      "8         NaN   NaN   NaN   NaN   NaN   NaN   NaN   NaN   NaN   NaN  \n",
      "9         NaN   NaN   NaN   NaN   NaN   NaN   NaN   NaN   NaN   NaN  \n",
      "10        NaN   NaN   NaN   NaN   NaN   NaN   NaN   NaN   NaN   NaN  \n",
      "\n",
      "[10 rows x 1682 columns]\n"
     ]
    },
    {
     "ename": "",
     "evalue": "",
     "output_type": "error",
     "traceback": [
      "\u001b[1;31mThe Kernel crashed while executing code in the current cell or a previous cell. \n",
      "\u001b[1;31mPlease review the code in the cell(s) to identify a possible cause of the failure. \n",
      "\u001b[1;31mClick <a href='https://aka.ms/vscodeJupyterKernelCrash'>here</a> for more info. \n",
      "\u001b[1;31mView Jupyter <a href='command:jupyter.viewOutput'>log</a> for further details."
     ]
    }
   ],
   "source": [
    "user_item_matrix = df.pivot(index=\"user_id\", columns=\"item_id\", values=\"rating\")\n",
    "print(user_item_matrix.head(10))"
   ]
  },
  {
   "cell_type": "code",
   "execution_count": null,
   "metadata": {},
   "outputs": [
    {
     "name": "stdout",
     "output_type": "stream",
     "text": [
      "user_id       1         2         3         4         5         6         7    \\\n",
      "user_id                                                                         \n",
      "1        1.000000  0.166931  0.047460  0.064358  0.378475  0.430239  0.440367   \n",
      "2        0.166931  1.000000  0.110591  0.178121  0.072979  0.245843  0.107328   \n",
      "3        0.047460  0.110591  1.000000  0.344151  0.021245  0.072415  0.066137   \n",
      "4        0.064358  0.178121  0.344151  1.000000  0.031804  0.068044  0.091230   \n",
      "5        0.378475  0.072979  0.021245  0.031804  1.000000  0.237286  0.373600   \n",
      "\n",
      "user_id       8         9         10   ...       934       935       936  \\\n",
      "user_id                                ...                                 \n",
      "1        0.319072  0.078138  0.376544  ...  0.369527  0.119482  0.274876   \n",
      "2        0.103344  0.161048  0.159862  ...  0.156986  0.307942  0.358789   \n",
      "3        0.083060  0.061040  0.065151  ...  0.031875  0.042753  0.163829   \n",
      "4        0.188060  0.101284  0.060859  ...  0.052107  0.036784  0.133115   \n",
      "5        0.248930  0.056847  0.201427  ...  0.338794  0.080580  0.094924   \n",
      "\n",
      "user_id       937       938       939       940       941       942       943  \n",
      "user_id                                                                        \n",
      "1        0.189705  0.197326  0.118095  0.314072  0.148617  0.179508  0.398175  \n",
      "2        0.424046  0.319889  0.228583  0.226790  0.161485  0.172268  0.105798  \n",
      "3        0.069038  0.124245  0.026271  0.161890  0.101243  0.133416  0.026556  \n",
      "4        0.193471  0.146058  0.030138  0.196858  0.152041  0.170086  0.058752  \n",
      "5        0.079779  0.148607  0.071459  0.239955  0.139595  0.152497  0.313941  \n",
      "\n",
      "[5 rows x 943 columns]\n"
     ]
    }
   ],
   "source": [
    "user_item_filled = user_item_matrix.fillna(0)\n",
    "user_similarity = cosine_similarity(user_item_filled)\n",
    "user_similarity_df = pd.DataFrame(user_similarity, index=user_item_matrix.index, columns=user_item_matrix.index)\n",
    "print(user_similarity_df.head())"
   ]
  },
  {
   "cell_type": "code",
   "execution_count": 9,
   "metadata": {},
   "outputs": [
    {
     "name": "stdout",
     "output_type": "stream",
     "text": [
      "item_id\n",
      "1463    5.0\n",
      "543     5.0\n",
      "262     5.0\n",
      "644     5.0\n",
      "853     5.0\n",
      "dtype: float64\n",
      "user_id\n",
      "474    0.556142\n",
      "6      0.551713\n",
      "234    0.542308\n",
      "308    0.538171\n",
      "537    0.533171\n",
      "Name: 10, dtype: float64\n"
     ]
    }
   ],
   "source": [
    "recommended_movies = recommend_movies(10, user_similarity_df, user_item_matrix, 5)\n",
    "print(recommended_movies)\n",
    "similar_users = get_similar_users(10, user_similarity_df, 5)\n",
    "print(similar_users)"
   ]
  }
 ],
 "metadata": {
  "kernelspec": {
   "display_name": "Python 3",
   "language": "python",
   "name": "python3"
  },
  "language_info": {
   "codemirror_mode": {
    "name": "ipython",
    "version": 3
   },
   "file_extension": ".py",
   "mimetype": "text/x-python",
   "name": "python",
   "nbconvert_exporter": "python",
   "pygments_lexer": "ipython3",
   "version": "3.11.9"
  }
 },
 "nbformat": 4,
 "nbformat_minor": 2
}
