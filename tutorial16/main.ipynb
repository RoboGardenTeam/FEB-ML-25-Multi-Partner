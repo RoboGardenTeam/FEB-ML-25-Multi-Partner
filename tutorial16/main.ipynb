{
 "cells": [
  {
   "cell_type": "code",
   "execution_count": 1,
   "metadata": {},
   "outputs": [],
   "source": [
    "import pandas as pd\n",
    "from sklearn.feature_extraction.text import TfidfVectorizer\n",
    "from sklearn.metrics.pairwise import linear_kernel\n",
    "\n"
   ]
  },
  {
   "cell_type": "code",
   "execution_count": 22,
   "metadata": {},
   "outputs": [],
   "source": [
    "def popularity_recommender(df, top_n=10):\n",
    "    popular_books = df.sort_values('ratings_count', ascending=False)\n",
    "    return popular_books[['title', 'authors', 'average_rating', 'ratings_count']].head(top_n)\n",
    "def content_based_recommender(df, title_input, top_n=5):\n",
    "    df['title'] = df['title'].fillna('')\n",
    "    df['authors'] = df['authors'].fillna('')\n",
    "    df['combined_features'] = df['title'] + ' ' + df['authors']\n",
    "    tfidf = TfidfVectorizer(stop_words='english')\n",
    "    tfidf_matrix = tfidf.fit_transform(df['combined_features'])\n",
    "    #print(tfidf_matrix)\n",
    "    cosine_sim = linear_kernel(tfidf_matrix, tfidf_matrix)\n",
    "    #print(cosine_sim)\n",
    "    indices = pd.Series(df.index, index=df['title']).drop_duplicates()\n",
    "    #print(indices.head(10))\n",
    "    idx = indices.get(title_input)\n",
    "    if idx is None:\n",
    "        return f\"Book titled '{title_input}' not found in dataset.\"\n",
    "    sim_scores = list(enumerate(cosine_sim[idx]))\n",
    "    #print(sim_scores)\n",
    "    sim_scores = sorted(sim_scores, key=lambda x: x[1], reverse=True)\n",
    "    sim_scores = sim_scores[1:top_n+1]\n",
    "    book_indices = [i[0] for i in sim_scores]\n",
    "    return df[['title', 'authors', 'average_rating']].iloc[book_indices]"
   ]
  },
  {
   "cell_type": "code",
   "execution_count": null,
   "metadata": {},
   "outputs": [
    {
     "name": "stdout",
     "output_type": "stream",
     "text": [
      "\n",
      "📚 Top 10 Popular Books:\n",
      "\n",
      "🔍 Content-Based Recommendations for 'The Chnageling':\n",
      "                                                  title  \\\n",
      "4416  Harry Potter and the Chamber of Secrets (Harry...   \n",
      "8876  Harry Potter and the Sorcerer's Stone (Harry P...   \n",
      "0     Harry Potter and the Half-Blood Prince (Harry ...   \n",
      "3     Harry Potter and the Prisoner of Azkaban (Harr...   \n",
      "4     Harry Potter Boxed Set  Books 1-5 (Harry Potte...   \n",
      "\n",
      "                         authors average_rating  \n",
      "4416  J.K. Rowling/Mary GrandPré           4.42  \n",
      "8876  J.K. Rowling/Mary GrandPré           4.47  \n",
      "0     J.K. Rowling/Mary GrandPré           4.57  \n",
      "3     J.K. Rowling/Mary GrandPré           4.56  \n",
      "4     J.K. Rowling/Mary GrandPré           4.78  \n"
     ]
    }
   ],
   "source": [
    "if __name__ == '__main__':\n",
    "    df = pd.read_csv('dataset/books.csv', on_bad_lines='skip')\n",
    "    print(\"\\n📚 Top 10 Popular Books:\")\n",
    "    #print(popularity_recommender(df))\n",
    "\n",
    "    print(\"\\n🔍 Content-Based Recommendations for your book:\")\n",
    "    print(content_based_recommender(df, 'Harry Potter and the Order of the Phoenix (Harry Potter  #5)', top_n=5))"
   ]
  }
 ],
 "metadata": {
  "kernelspec": {
   "display_name": "Python 3",
   "language": "python",
   "name": "python3"
  },
  "language_info": {
   "codemirror_mode": {
    "name": "ipython",
    "version": 3
   },
   "file_extension": ".py",
   "mimetype": "text/x-python",
   "name": "python",
   "nbconvert_exporter": "python",
   "pygments_lexer": "ipython3",
   "version": "3.11.9"
  }
 },
 "nbformat": 4,
 "nbformat_minor": 2
}
